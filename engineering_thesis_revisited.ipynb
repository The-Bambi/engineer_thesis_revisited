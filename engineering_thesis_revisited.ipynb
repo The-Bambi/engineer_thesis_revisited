{
  "nbformat": 4,
  "nbformat_minor": 0,
  "metadata": {
    "colab": {
      "provenance": [],
      "collapsed_sections": [],
      "authorship_tag": "ABX9TyMjiKOtKlsLUb34ODLzOH8t",
      "include_colab_link": true
    },
    "kernelspec": {
      "name": "python3",
      "display_name": "Python 3"
    },
    "language_info": {
      "name": "python"
    }
  },
  "cells": [
    {
      "cell_type": "markdown",
      "metadata": {
        "id": "view-in-github",
        "colab_type": "text"
      },
      "source": [
        "<a href=\"https://colab.research.google.com/github/The-Bambi/engineer_thesis_revisited/blob/main/engineering_thesis_revisited.ipynb\" target=\"_parent\"><img src=\"https://colab.research.google.com/assets/colab-badge.svg\" alt=\"Open In Colab\"/></a>"
      ]
    },
    {
      "cell_type": "code",
      "execution_count": null,
      "metadata": {
        "id": "aJnsFFIRyfwl"
      },
      "outputs": [],
      "source": [
        "import pandas as pd\n",
        "import numpy as np\n",
        "\n",
        "import matplotlib.pyplot as plt\n",
        "import matplotlib\n",
        "from mpl_toolkits.mplot3d import Axes3D"
      ]
    },
    {
      "cell_type": "code",
      "source": [
        "from google.colab import drive\n",
        "drive.mount('/content/gdrive')\n",
        "#Ścieżka do pliku"
      ],
      "metadata": {
        "colab": {
          "base_uri": "https://localhost:8080/"
        },
        "id": "F6r0mKiLyi-O",
        "outputId": "1e815d5d-69e7-424a-ea08-97e7036fa558"
      },
      "execution_count": null,
      "outputs": [
        {
          "output_type": "stream",
          "name": "stdout",
          "text": [
            "Drive already mounted at /content/gdrive; to attempt to forcibly remount, call drive.mount(\"/content/gdrive\", force_remount=True).\n"
          ]
        }
      ]
    },
    {
      "cell_type": "code",
      "source": [
        "data = pd.read_csv('gdrive/My Drive/Colab Notebooks/data.csv', sep = ' ')"
      ],
      "metadata": {
        "id": "HG5ywk4CCL40"
      },
      "execution_count": null,
      "outputs": []
    },
    {
      "cell_type": "code",
      "source": [
        "pd.set_option('display.float_format', lambda x: '%.3f' % x)\n",
        "data.describe()"
      ],
      "metadata": {
        "colab": {
          "base_uri": "https://localhost:8080/",
          "height": 300
        },
        "id": "lJh-lrV1ypd_",
        "outputId": "7ae7a9cd-15d3-4b59-c1d8-7f559d252813"
      },
      "execution_count": null,
      "outputs": [
        {
          "output_type": "execute_result",
          "data": {
            "text/plain": [
              "           EventID    TotCharge        EnDep      NPixels        NPads  \\\n",
              "count 13627668.000 13627668.000 13627668.000 13627668.000 13627668.000   \n",
              "mean     26468.184      786.998        0.000       24.031        4.693   \n",
              "std        104.227    14123.013        0.000      268.228        8.919   \n",
              "min      26289.000        5.773        0.000        2.000        1.000   \n",
              "25%      26377.000       79.205        0.000        4.000        2.000   \n",
              "50%      26468.000      222.194        0.000        8.000        3.000   \n",
              "75%      26561.000      377.357        0.000       12.000        4.000   \n",
              "max      26646.000  2160410.000        0.000    16232.000      192.000   \n",
              "\n",
              "            NTimeS            X            Y            Z       MaxADC  \\\n",
              "count 13627668.000 13627668.000 13627668.000 13627668.000 13627668.000   \n",
              "mean         4.936       -4.729       -1.036      258.454       73.459   \n",
              "std         13.141      156.144       26.084      380.388       67.873   \n",
              "min          2.000     -380.520      -64.322     -495.403        2.887   \n",
              "25%          2.000      -74.906      -18.904      -49.023       20.233   \n",
              "50%          3.000       11.882       -0.349      426.385       54.595   \n",
              "75%          4.000       66.235       16.912      576.281       96.667   \n",
              "max        250.000      380.571       50.647      728.435      450.185   \n",
              "\n",
              "       NumTracksAssigned  \n",
              "count       13627668.000  \n",
              "mean               0.417  \n",
              "std                0.493  \n",
              "min                0.000  \n",
              "25%                0.000  \n",
              "50%                0.000  \n",
              "75%                1.000  \n",
              "max                1.000  "
            ],
            "text/html": [
              "\n",
              "  <div id=\"df-8d69f427-6534-476b-a9db-795e297cb6ef\">\n",
              "    <div class=\"colab-df-container\">\n",
              "      <div>\n",
              "<style scoped>\n",
              "    .dataframe tbody tr th:only-of-type {\n",
              "        vertical-align: middle;\n",
              "    }\n",
              "\n",
              "    .dataframe tbody tr th {\n",
              "        vertical-align: top;\n",
              "    }\n",
              "\n",
              "    .dataframe thead th {\n",
              "        text-align: right;\n",
              "    }\n",
              "</style>\n",
              "<table border=\"1\" class=\"dataframe\">\n",
              "  <thead>\n",
              "    <tr style=\"text-align: right;\">\n",
              "      <th></th>\n",
              "      <th>EventID</th>\n",
              "      <th>TotCharge</th>\n",
              "      <th>EnDep</th>\n",
              "      <th>NPixels</th>\n",
              "      <th>NPads</th>\n",
              "      <th>NTimeS</th>\n",
              "      <th>X</th>\n",
              "      <th>Y</th>\n",
              "      <th>Z</th>\n",
              "      <th>MaxADC</th>\n",
              "      <th>NumTracksAssigned</th>\n",
              "    </tr>\n",
              "  </thead>\n",
              "  <tbody>\n",
              "    <tr>\n",
              "      <th>count</th>\n",
              "      <td>13627668.000</td>\n",
              "      <td>13627668.000</td>\n",
              "      <td>13627668.000</td>\n",
              "      <td>13627668.000</td>\n",
              "      <td>13627668.000</td>\n",
              "      <td>13627668.000</td>\n",
              "      <td>13627668.000</td>\n",
              "      <td>13627668.000</td>\n",
              "      <td>13627668.000</td>\n",
              "      <td>13627668.000</td>\n",
              "      <td>13627668.000</td>\n",
              "    </tr>\n",
              "    <tr>\n",
              "      <th>mean</th>\n",
              "      <td>26468.184</td>\n",
              "      <td>786.998</td>\n",
              "      <td>0.000</td>\n",
              "      <td>24.031</td>\n",
              "      <td>4.693</td>\n",
              "      <td>4.936</td>\n",
              "      <td>-4.729</td>\n",
              "      <td>-1.036</td>\n",
              "      <td>258.454</td>\n",
              "      <td>73.459</td>\n",
              "      <td>0.417</td>\n",
              "    </tr>\n",
              "    <tr>\n",
              "      <th>std</th>\n",
              "      <td>104.227</td>\n",
              "      <td>14123.013</td>\n",
              "      <td>0.000</td>\n",
              "      <td>268.228</td>\n",
              "      <td>8.919</td>\n",
              "      <td>13.141</td>\n",
              "      <td>156.144</td>\n",
              "      <td>26.084</td>\n",
              "      <td>380.388</td>\n",
              "      <td>67.873</td>\n",
              "      <td>0.493</td>\n",
              "    </tr>\n",
              "    <tr>\n",
              "      <th>min</th>\n",
              "      <td>26289.000</td>\n",
              "      <td>5.773</td>\n",
              "      <td>0.000</td>\n",
              "      <td>2.000</td>\n",
              "      <td>1.000</td>\n",
              "      <td>2.000</td>\n",
              "      <td>-380.520</td>\n",
              "      <td>-64.322</td>\n",
              "      <td>-495.403</td>\n",
              "      <td>2.887</td>\n",
              "      <td>0.000</td>\n",
              "    </tr>\n",
              "    <tr>\n",
              "      <th>25%</th>\n",
              "      <td>26377.000</td>\n",
              "      <td>79.205</td>\n",
              "      <td>0.000</td>\n",
              "      <td>4.000</td>\n",
              "      <td>2.000</td>\n",
              "      <td>2.000</td>\n",
              "      <td>-74.906</td>\n",
              "      <td>-18.904</td>\n",
              "      <td>-49.023</td>\n",
              "      <td>20.233</td>\n",
              "      <td>0.000</td>\n",
              "    </tr>\n",
              "    <tr>\n",
              "      <th>50%</th>\n",
              "      <td>26468.000</td>\n",
              "      <td>222.194</td>\n",
              "      <td>0.000</td>\n",
              "      <td>8.000</td>\n",
              "      <td>3.000</td>\n",
              "      <td>3.000</td>\n",
              "      <td>11.882</td>\n",
              "      <td>-0.349</td>\n",
              "      <td>426.385</td>\n",
              "      <td>54.595</td>\n",
              "      <td>0.000</td>\n",
              "    </tr>\n",
              "    <tr>\n",
              "      <th>75%</th>\n",
              "      <td>26561.000</td>\n",
              "      <td>377.357</td>\n",
              "      <td>0.000</td>\n",
              "      <td>12.000</td>\n",
              "      <td>4.000</td>\n",
              "      <td>4.000</td>\n",
              "      <td>66.235</td>\n",
              "      <td>16.912</td>\n",
              "      <td>576.281</td>\n",
              "      <td>96.667</td>\n",
              "      <td>1.000</td>\n",
              "    </tr>\n",
              "    <tr>\n",
              "      <th>max</th>\n",
              "      <td>26646.000</td>\n",
              "      <td>2160410.000</td>\n",
              "      <td>0.000</td>\n",
              "      <td>16232.000</td>\n",
              "      <td>192.000</td>\n",
              "      <td>250.000</td>\n",
              "      <td>380.571</td>\n",
              "      <td>50.647</td>\n",
              "      <td>728.435</td>\n",
              "      <td>450.185</td>\n",
              "      <td>1.000</td>\n",
              "    </tr>\n",
              "  </tbody>\n",
              "</table>\n",
              "</div>\n",
              "      <button class=\"colab-df-convert\" onclick=\"convertToInteractive('df-8d69f427-6534-476b-a9db-795e297cb6ef')\"\n",
              "              title=\"Convert this dataframe to an interactive table.\"\n",
              "              style=\"display:none;\">\n",
              "        \n",
              "  <svg xmlns=\"http://www.w3.org/2000/svg\" height=\"24px\"viewBox=\"0 0 24 24\"\n",
              "       width=\"24px\">\n",
              "    <path d=\"M0 0h24v24H0V0z\" fill=\"none\"/>\n",
              "    <path d=\"M18.56 5.44l.94 2.06.94-2.06 2.06-.94-2.06-.94-.94-2.06-.94 2.06-2.06.94zm-11 1L8.5 8.5l.94-2.06 2.06-.94-2.06-.94L8.5 2.5l-.94 2.06-2.06.94zm10 10l.94 2.06.94-2.06 2.06-.94-2.06-.94-.94-2.06-.94 2.06-2.06.94z\"/><path d=\"M17.41 7.96l-1.37-1.37c-.4-.4-.92-.59-1.43-.59-.52 0-1.04.2-1.43.59L10.3 9.45l-7.72 7.72c-.78.78-.78 2.05 0 2.83L4 21.41c.39.39.9.59 1.41.59.51 0 1.02-.2 1.41-.59l7.78-7.78 2.81-2.81c.8-.78.8-2.07 0-2.86zM5.41 20L4 18.59l7.72-7.72 1.47 1.35L5.41 20z\"/>\n",
              "  </svg>\n",
              "      </button>\n",
              "      \n",
              "  <style>\n",
              "    .colab-df-container {\n",
              "      display:flex;\n",
              "      flex-wrap:wrap;\n",
              "      gap: 12px;\n",
              "    }\n",
              "\n",
              "    .colab-df-convert {\n",
              "      background-color: #E8F0FE;\n",
              "      border: none;\n",
              "      border-radius: 50%;\n",
              "      cursor: pointer;\n",
              "      display: none;\n",
              "      fill: #1967D2;\n",
              "      height: 32px;\n",
              "      padding: 0 0 0 0;\n",
              "      width: 32px;\n",
              "    }\n",
              "\n",
              "    .colab-df-convert:hover {\n",
              "      background-color: #E2EBFA;\n",
              "      box-shadow: 0px 1px 2px rgba(60, 64, 67, 0.3), 0px 1px 3px 1px rgba(60, 64, 67, 0.15);\n",
              "      fill: #174EA6;\n",
              "    }\n",
              "\n",
              "    [theme=dark] .colab-df-convert {\n",
              "      background-color: #3B4455;\n",
              "      fill: #D2E3FC;\n",
              "    }\n",
              "\n",
              "    [theme=dark] .colab-df-convert:hover {\n",
              "      background-color: #434B5C;\n",
              "      box-shadow: 0px 1px 3px 1px rgba(0, 0, 0, 0.15);\n",
              "      filter: drop-shadow(0px 1px 2px rgba(0, 0, 0, 0.3));\n",
              "      fill: #FFFFFF;\n",
              "    }\n",
              "  </style>\n",
              "\n",
              "      <script>\n",
              "        const buttonEl =\n",
              "          document.querySelector('#df-8d69f427-6534-476b-a9db-795e297cb6ef button.colab-df-convert');\n",
              "        buttonEl.style.display =\n",
              "          google.colab.kernel.accessAllowed ? 'block' : 'none';\n",
              "\n",
              "        async function convertToInteractive(key) {\n",
              "          const element = document.querySelector('#df-8d69f427-6534-476b-a9db-795e297cb6ef');\n",
              "          const dataTable =\n",
              "            await google.colab.kernel.invokeFunction('convertToInteractive',\n",
              "                                                     [key], {});\n",
              "          if (!dataTable) return;\n",
              "\n",
              "          const docLinkHtml = 'Like what you see? Visit the ' +\n",
              "            '<a target=\"_blank\" href=https://colab.research.google.com/notebooks/data_table.ipynb>data table notebook</a>'\n",
              "            + ' to learn more about interactive tables.';\n",
              "          element.innerHTML = '';\n",
              "          dataTable['output_type'] = 'display_data';\n",
              "          await google.colab.output.renderOutput(dataTable, element);\n",
              "          const docLink = document.createElement('div');\n",
              "          docLink.innerHTML = docLinkHtml;\n",
              "          element.appendChild(docLink);\n",
              "        }\n",
              "      </script>\n",
              "    </div>\n",
              "  </div>\n",
              "  "
            ]
          },
          "metadata": {},
          "execution_count": 4
        }
      ]
    },
    {
      "cell_type": "code",
      "source": [
        "data = data.drop(columns=['EnDep'])"
      ],
      "metadata": {
        "id": "0x-V4tOf0nnB"
      },
      "execution_count": null,
      "outputs": []
    },
    {
      "cell_type": "code",
      "source": [
        "round(data['NumTracksAssigned'].loc[data['NumTracksAssigned']==1].count()/data.shape[0], 3)"
      ],
      "metadata": {
        "colab": {
          "base_uri": "https://localhost:8080/"
        },
        "id": "V4Q4Xi80y00l",
        "outputId": "026ec8f1-fee9-4042-9ab9-20f26a4b8af1"
      },
      "execution_count": null,
      "outputs": [
        {
          "output_type": "execute_result",
          "data": {
            "text/plain": [
              "0.417"
            ]
          },
          "metadata": {},
          "execution_count": 6
        }
      ]
    },
    {
      "cell_type": "markdown",
      "source": [
        "41% of the data is 1, 59% is 0."
      ],
      "metadata": {
        "id": "DVpQ8M_f0UcM"
      }
    },
    {
      "cell_type": "code",
      "source": [
        "data.drop(columns=['EventID']).corr()"
      ],
      "metadata": {
        "colab": {
          "base_uri": "https://localhost:8080/",
          "height": 332
        },
        "id": "Oik5iqRw0QD1",
        "outputId": "50523dc5-876d-4019-8859-c2662969491f"
      },
      "execution_count": null,
      "outputs": [
        {
          "output_type": "execute_result",
          "data": {
            "text/plain": [
              "                   TotCharge  NPixels  NPads  NTimeS      X      Y      Z  \\\n",
              "TotCharge              1.000    0.443  0.134   0.421 -0.002 -0.004  0.001   \n",
              "NPixels                0.443    1.000  0.237   0.775 -0.007 -0.002  0.016   \n",
              "NPads                  0.134    0.237  1.000   0.202 -0.016  0.114 -0.067   \n",
              "NTimeS                 0.421    0.775  0.202   1.000 -0.019 -0.029  0.026   \n",
              "X                     -0.002   -0.007 -0.016  -0.019  1.000  0.008 -0.047   \n",
              "Y                     -0.004   -0.002  0.114  -0.029  0.008  1.000  0.053   \n",
              "Z                      0.001    0.016 -0.067   0.026 -0.047  0.053  1.000   \n",
              "MaxADC                 0.089    0.054  0.084   0.124  0.026  0.046 -0.089   \n",
              "NumTracksAssigned     -0.027   -0.046 -0.096  -0.105  0.056  0.029 -0.117   \n",
              "\n",
              "                   MaxADC  NumTracksAssigned  \n",
              "TotCharge           0.089             -0.027  \n",
              "NPixels             0.054             -0.046  \n",
              "NPads               0.084             -0.096  \n",
              "NTimeS              0.124             -0.105  \n",
              "X                   0.026              0.056  \n",
              "Y                   0.046              0.029  \n",
              "Z                  -0.089             -0.117  \n",
              "MaxADC              1.000              0.184  \n",
              "NumTracksAssigned   0.184              1.000  "
            ],
            "text/html": [
              "\n",
              "  <div id=\"df-f762b22b-2ba3-4f57-8e39-0a9e0fd744ed\">\n",
              "    <div class=\"colab-df-container\">\n",
              "      <div>\n",
              "<style scoped>\n",
              "    .dataframe tbody tr th:only-of-type {\n",
              "        vertical-align: middle;\n",
              "    }\n",
              "\n",
              "    .dataframe tbody tr th {\n",
              "        vertical-align: top;\n",
              "    }\n",
              "\n",
              "    .dataframe thead th {\n",
              "        text-align: right;\n",
              "    }\n",
              "</style>\n",
              "<table border=\"1\" class=\"dataframe\">\n",
              "  <thead>\n",
              "    <tr style=\"text-align: right;\">\n",
              "      <th></th>\n",
              "      <th>TotCharge</th>\n",
              "      <th>NPixels</th>\n",
              "      <th>NPads</th>\n",
              "      <th>NTimeS</th>\n",
              "      <th>X</th>\n",
              "      <th>Y</th>\n",
              "      <th>Z</th>\n",
              "      <th>MaxADC</th>\n",
              "      <th>NumTracksAssigned</th>\n",
              "    </tr>\n",
              "  </thead>\n",
              "  <tbody>\n",
              "    <tr>\n",
              "      <th>TotCharge</th>\n",
              "      <td>1.000</td>\n",
              "      <td>0.443</td>\n",
              "      <td>0.134</td>\n",
              "      <td>0.421</td>\n",
              "      <td>-0.002</td>\n",
              "      <td>-0.004</td>\n",
              "      <td>0.001</td>\n",
              "      <td>0.089</td>\n",
              "      <td>-0.027</td>\n",
              "    </tr>\n",
              "    <tr>\n",
              "      <th>NPixels</th>\n",
              "      <td>0.443</td>\n",
              "      <td>1.000</td>\n",
              "      <td>0.237</td>\n",
              "      <td>0.775</td>\n",
              "      <td>-0.007</td>\n",
              "      <td>-0.002</td>\n",
              "      <td>0.016</td>\n",
              "      <td>0.054</td>\n",
              "      <td>-0.046</td>\n",
              "    </tr>\n",
              "    <tr>\n",
              "      <th>NPads</th>\n",
              "      <td>0.134</td>\n",
              "      <td>0.237</td>\n",
              "      <td>1.000</td>\n",
              "      <td>0.202</td>\n",
              "      <td>-0.016</td>\n",
              "      <td>0.114</td>\n",
              "      <td>-0.067</td>\n",
              "      <td>0.084</td>\n",
              "      <td>-0.096</td>\n",
              "    </tr>\n",
              "    <tr>\n",
              "      <th>NTimeS</th>\n",
              "      <td>0.421</td>\n",
              "      <td>0.775</td>\n",
              "      <td>0.202</td>\n",
              "      <td>1.000</td>\n",
              "      <td>-0.019</td>\n",
              "      <td>-0.029</td>\n",
              "      <td>0.026</td>\n",
              "      <td>0.124</td>\n",
              "      <td>-0.105</td>\n",
              "    </tr>\n",
              "    <tr>\n",
              "      <th>X</th>\n",
              "      <td>-0.002</td>\n",
              "      <td>-0.007</td>\n",
              "      <td>-0.016</td>\n",
              "      <td>-0.019</td>\n",
              "      <td>1.000</td>\n",
              "      <td>0.008</td>\n",
              "      <td>-0.047</td>\n",
              "      <td>0.026</td>\n",
              "      <td>0.056</td>\n",
              "    </tr>\n",
              "    <tr>\n",
              "      <th>Y</th>\n",
              "      <td>-0.004</td>\n",
              "      <td>-0.002</td>\n",
              "      <td>0.114</td>\n",
              "      <td>-0.029</td>\n",
              "      <td>0.008</td>\n",
              "      <td>1.000</td>\n",
              "      <td>0.053</td>\n",
              "      <td>0.046</td>\n",
              "      <td>0.029</td>\n",
              "    </tr>\n",
              "    <tr>\n",
              "      <th>Z</th>\n",
              "      <td>0.001</td>\n",
              "      <td>0.016</td>\n",
              "      <td>-0.067</td>\n",
              "      <td>0.026</td>\n",
              "      <td>-0.047</td>\n",
              "      <td>0.053</td>\n",
              "      <td>1.000</td>\n",
              "      <td>-0.089</td>\n",
              "      <td>-0.117</td>\n",
              "    </tr>\n",
              "    <tr>\n",
              "      <th>MaxADC</th>\n",
              "      <td>0.089</td>\n",
              "      <td>0.054</td>\n",
              "      <td>0.084</td>\n",
              "      <td>0.124</td>\n",
              "      <td>0.026</td>\n",
              "      <td>0.046</td>\n",
              "      <td>-0.089</td>\n",
              "      <td>1.000</td>\n",
              "      <td>0.184</td>\n",
              "    </tr>\n",
              "    <tr>\n",
              "      <th>NumTracksAssigned</th>\n",
              "      <td>-0.027</td>\n",
              "      <td>-0.046</td>\n",
              "      <td>-0.096</td>\n",
              "      <td>-0.105</td>\n",
              "      <td>0.056</td>\n",
              "      <td>0.029</td>\n",
              "      <td>-0.117</td>\n",
              "      <td>0.184</td>\n",
              "      <td>1.000</td>\n",
              "    </tr>\n",
              "  </tbody>\n",
              "</table>\n",
              "</div>\n",
              "      <button class=\"colab-df-convert\" onclick=\"convertToInteractive('df-f762b22b-2ba3-4f57-8e39-0a9e0fd744ed')\"\n",
              "              title=\"Convert this dataframe to an interactive table.\"\n",
              "              style=\"display:none;\">\n",
              "        \n",
              "  <svg xmlns=\"http://www.w3.org/2000/svg\" height=\"24px\"viewBox=\"0 0 24 24\"\n",
              "       width=\"24px\">\n",
              "    <path d=\"M0 0h24v24H0V0z\" fill=\"none\"/>\n",
              "    <path d=\"M18.56 5.44l.94 2.06.94-2.06 2.06-.94-2.06-.94-.94-2.06-.94 2.06-2.06.94zm-11 1L8.5 8.5l.94-2.06 2.06-.94-2.06-.94L8.5 2.5l-.94 2.06-2.06.94zm10 10l.94 2.06.94-2.06 2.06-.94-2.06-.94-.94-2.06-.94 2.06-2.06.94z\"/><path d=\"M17.41 7.96l-1.37-1.37c-.4-.4-.92-.59-1.43-.59-.52 0-1.04.2-1.43.59L10.3 9.45l-7.72 7.72c-.78.78-.78 2.05 0 2.83L4 21.41c.39.39.9.59 1.41.59.51 0 1.02-.2 1.41-.59l7.78-7.78 2.81-2.81c.8-.78.8-2.07 0-2.86zM5.41 20L4 18.59l7.72-7.72 1.47 1.35L5.41 20z\"/>\n",
              "  </svg>\n",
              "      </button>\n",
              "      \n",
              "  <style>\n",
              "    .colab-df-container {\n",
              "      display:flex;\n",
              "      flex-wrap:wrap;\n",
              "      gap: 12px;\n",
              "    }\n",
              "\n",
              "    .colab-df-convert {\n",
              "      background-color: #E8F0FE;\n",
              "      border: none;\n",
              "      border-radius: 50%;\n",
              "      cursor: pointer;\n",
              "      display: none;\n",
              "      fill: #1967D2;\n",
              "      height: 32px;\n",
              "      padding: 0 0 0 0;\n",
              "      width: 32px;\n",
              "    }\n",
              "\n",
              "    .colab-df-convert:hover {\n",
              "      background-color: #E2EBFA;\n",
              "      box-shadow: 0px 1px 2px rgba(60, 64, 67, 0.3), 0px 1px 3px 1px rgba(60, 64, 67, 0.15);\n",
              "      fill: #174EA6;\n",
              "    }\n",
              "\n",
              "    [theme=dark] .colab-df-convert {\n",
              "      background-color: #3B4455;\n",
              "      fill: #D2E3FC;\n",
              "    }\n",
              "\n",
              "    [theme=dark] .colab-df-convert:hover {\n",
              "      background-color: #434B5C;\n",
              "      box-shadow: 0px 1px 3px 1px rgba(0, 0, 0, 0.15);\n",
              "      filter: drop-shadow(0px 1px 2px rgba(0, 0, 0, 0.3));\n",
              "      fill: #FFFFFF;\n",
              "    }\n",
              "  </style>\n",
              "\n",
              "      <script>\n",
              "        const buttonEl =\n",
              "          document.querySelector('#df-f762b22b-2ba3-4f57-8e39-0a9e0fd744ed button.colab-df-convert');\n",
              "        buttonEl.style.display =\n",
              "          google.colab.kernel.accessAllowed ? 'block' : 'none';\n",
              "\n",
              "        async function convertToInteractive(key) {\n",
              "          const element = document.querySelector('#df-f762b22b-2ba3-4f57-8e39-0a9e0fd744ed');\n",
              "          const dataTable =\n",
              "            await google.colab.kernel.invokeFunction('convertToInteractive',\n",
              "                                                     [key], {});\n",
              "          if (!dataTable) return;\n",
              "\n",
              "          const docLinkHtml = 'Like what you see? Visit the ' +\n",
              "            '<a target=\"_blank\" href=https://colab.research.google.com/notebooks/data_table.ipynb>data table notebook</a>'\n",
              "            + ' to learn more about interactive tables.';\n",
              "          element.innerHTML = '';\n",
              "          dataTable['output_type'] = 'display_data';\n",
              "          await google.colab.output.renderOutput(dataTable, element);\n",
              "          const docLink = document.createElement('div');\n",
              "          docLink.innerHTML = docLinkHtml;\n",
              "          element.appendChild(docLink);\n",
              "        }\n",
              "      </script>\n",
              "    </div>\n",
              "  </div>\n",
              "  "
            ]
          },
          "metadata": {},
          "execution_count": 7
        }
      ]
    },
    {
      "cell_type": "code",
      "source": [
        "X, y = data[['TotCharge', 'NPixels', 'NPads', 'NTimeS', 'X', 'Y', 'Z', 'MaxADC']], data['NumTracksAssigned']"
      ],
      "metadata": {
        "id": "jZOTNXCj1I59"
      },
      "execution_count": null,
      "outputs": []
    },
    {
      "cell_type": "code",
      "source": [
        "from sklearn.feature_selection import mutual_info_classif"
      ],
      "metadata": {
        "id": "c4vi3v-AzXiu"
      },
      "execution_count": null,
      "outputs": []
    },
    {
      "cell_type": "code",
      "source": [
        "def make_mi_scores(X, y):\n",
        "    mi_scores = mutual_info_classif(X, y, discrete_features=False)\n",
        "    mi_scores = pd.Series(mi_scores, name=\"MI Scores\", index=X.columns)\n",
        "    mi_scores = mi_scores.sort_values(ascending=False)\n",
        "    return mi_scores"
      ],
      "metadata": {
        "id": "KEciEd191EdA"
      },
      "execution_count": null,
      "outputs": []
    },
    {
      "cell_type": "code",
      "source": [
        "# make_mi_scores(X, y)\n",
        "# dont run this coz it takes 20 minutes. Results below."
      ],
      "metadata": {
        "id": "7xgr6Jux1qce"
      },
      "execution_count": null,
      "outputs": []
    },
    {
      "cell_type": "code",
      "source": [
        "long_to_calculate_data = {\n",
        "  'NPads':0.384,\n",
        "  'NTimeS':0.338,\n",
        "  'MaxADC':0.300,\n",
        "  'NPixels':0.252,\n",
        "  'TotCharge':0.214,\n",
        "  'Z':0.173,\n",
        "  'X':0.125,\n",
        "  'Y':0.071\n",
        "}"
      ],
      "metadata": {
        "id": "dDSv2b3u1ufX"
      },
      "execution_count": null,
      "outputs": []
    },
    {
      "cell_type": "code",
      "source": [
        "X.describe()"
      ],
      "metadata": {
        "colab": {
          "base_uri": "https://localhost:8080/",
          "height": 300
        },
        "id": "N90IJe9uBdsw",
        "outputId": "137b90a8-4066-4a9f-e0fa-165ebef90831"
      },
      "execution_count": null,
      "outputs": [
        {
          "output_type": "execute_result",
          "data": {
            "text/plain": [
              "         TotCharge      NPixels        NPads       NTimeS            X  \\\n",
              "count 13627668.000 13627668.000 13627668.000 13627668.000 13627668.000   \n",
              "mean       786.998       24.031        4.693        4.936       -4.729   \n",
              "std      14123.013      268.228        8.919       13.141      156.144   \n",
              "min          5.773        2.000        1.000        2.000     -380.520   \n",
              "25%         79.205        4.000        2.000        2.000      -74.906   \n",
              "50%        222.194        8.000        3.000        3.000       11.882   \n",
              "75%        377.357       12.000        4.000        4.000       66.235   \n",
              "max    2160410.000    16232.000      192.000      250.000      380.571   \n",
              "\n",
              "                 Y            Z       MaxADC  \n",
              "count 13627668.000 13627668.000 13627668.000  \n",
              "mean        -1.036      258.454       73.459  \n",
              "std         26.084      380.388       67.873  \n",
              "min        -64.322     -495.403        2.887  \n",
              "25%        -18.904      -49.023       20.233  \n",
              "50%         -0.349      426.385       54.595  \n",
              "75%         16.912      576.281       96.667  \n",
              "max         50.647      728.435      450.185  "
            ],
            "text/html": [
              "\n",
              "  <div id=\"df-a45bc58a-be29-4caa-ad15-2dd49ff227d7\">\n",
              "    <div class=\"colab-df-container\">\n",
              "      <div>\n",
              "<style scoped>\n",
              "    .dataframe tbody tr th:only-of-type {\n",
              "        vertical-align: middle;\n",
              "    }\n",
              "\n",
              "    .dataframe tbody tr th {\n",
              "        vertical-align: top;\n",
              "    }\n",
              "\n",
              "    .dataframe thead th {\n",
              "        text-align: right;\n",
              "    }\n",
              "</style>\n",
              "<table border=\"1\" class=\"dataframe\">\n",
              "  <thead>\n",
              "    <tr style=\"text-align: right;\">\n",
              "      <th></th>\n",
              "      <th>TotCharge</th>\n",
              "      <th>NPixels</th>\n",
              "      <th>NPads</th>\n",
              "      <th>NTimeS</th>\n",
              "      <th>X</th>\n",
              "      <th>Y</th>\n",
              "      <th>Z</th>\n",
              "      <th>MaxADC</th>\n",
              "    </tr>\n",
              "  </thead>\n",
              "  <tbody>\n",
              "    <tr>\n",
              "      <th>count</th>\n",
              "      <td>13627668.000</td>\n",
              "      <td>13627668.000</td>\n",
              "      <td>13627668.000</td>\n",
              "      <td>13627668.000</td>\n",
              "      <td>13627668.000</td>\n",
              "      <td>13627668.000</td>\n",
              "      <td>13627668.000</td>\n",
              "      <td>13627668.000</td>\n",
              "    </tr>\n",
              "    <tr>\n",
              "      <th>mean</th>\n",
              "      <td>786.998</td>\n",
              "      <td>24.031</td>\n",
              "      <td>4.693</td>\n",
              "      <td>4.936</td>\n",
              "      <td>-4.729</td>\n",
              "      <td>-1.036</td>\n",
              "      <td>258.454</td>\n",
              "      <td>73.459</td>\n",
              "    </tr>\n",
              "    <tr>\n",
              "      <th>std</th>\n",
              "      <td>14123.013</td>\n",
              "      <td>268.228</td>\n",
              "      <td>8.919</td>\n",
              "      <td>13.141</td>\n",
              "      <td>156.144</td>\n",
              "      <td>26.084</td>\n",
              "      <td>380.388</td>\n",
              "      <td>67.873</td>\n",
              "    </tr>\n",
              "    <tr>\n",
              "      <th>min</th>\n",
              "      <td>5.773</td>\n",
              "      <td>2.000</td>\n",
              "      <td>1.000</td>\n",
              "      <td>2.000</td>\n",
              "      <td>-380.520</td>\n",
              "      <td>-64.322</td>\n",
              "      <td>-495.403</td>\n",
              "      <td>2.887</td>\n",
              "    </tr>\n",
              "    <tr>\n",
              "      <th>25%</th>\n",
              "      <td>79.205</td>\n",
              "      <td>4.000</td>\n",
              "      <td>2.000</td>\n",
              "      <td>2.000</td>\n",
              "      <td>-74.906</td>\n",
              "      <td>-18.904</td>\n",
              "      <td>-49.023</td>\n",
              "      <td>20.233</td>\n",
              "    </tr>\n",
              "    <tr>\n",
              "      <th>50%</th>\n",
              "      <td>222.194</td>\n",
              "      <td>8.000</td>\n",
              "      <td>3.000</td>\n",
              "      <td>3.000</td>\n",
              "      <td>11.882</td>\n",
              "      <td>-0.349</td>\n",
              "      <td>426.385</td>\n",
              "      <td>54.595</td>\n",
              "    </tr>\n",
              "    <tr>\n",
              "      <th>75%</th>\n",
              "      <td>377.357</td>\n",
              "      <td>12.000</td>\n",
              "      <td>4.000</td>\n",
              "      <td>4.000</td>\n",
              "      <td>66.235</td>\n",
              "      <td>16.912</td>\n",
              "      <td>576.281</td>\n",
              "      <td>96.667</td>\n",
              "    </tr>\n",
              "    <tr>\n",
              "      <th>max</th>\n",
              "      <td>2160410.000</td>\n",
              "      <td>16232.000</td>\n",
              "      <td>192.000</td>\n",
              "      <td>250.000</td>\n",
              "      <td>380.571</td>\n",
              "      <td>50.647</td>\n",
              "      <td>728.435</td>\n",
              "      <td>450.185</td>\n",
              "    </tr>\n",
              "  </tbody>\n",
              "</table>\n",
              "</div>\n",
              "      <button class=\"colab-df-convert\" onclick=\"convertToInteractive('df-a45bc58a-be29-4caa-ad15-2dd49ff227d7')\"\n",
              "              title=\"Convert this dataframe to an interactive table.\"\n",
              "              style=\"display:none;\">\n",
              "        \n",
              "  <svg xmlns=\"http://www.w3.org/2000/svg\" height=\"24px\"viewBox=\"0 0 24 24\"\n",
              "       width=\"24px\">\n",
              "    <path d=\"M0 0h24v24H0V0z\" fill=\"none\"/>\n",
              "    <path d=\"M18.56 5.44l.94 2.06.94-2.06 2.06-.94-2.06-.94-.94-2.06-.94 2.06-2.06.94zm-11 1L8.5 8.5l.94-2.06 2.06-.94-2.06-.94L8.5 2.5l-.94 2.06-2.06.94zm10 10l.94 2.06.94-2.06 2.06-.94-2.06-.94-.94-2.06-.94 2.06-2.06.94z\"/><path d=\"M17.41 7.96l-1.37-1.37c-.4-.4-.92-.59-1.43-.59-.52 0-1.04.2-1.43.59L10.3 9.45l-7.72 7.72c-.78.78-.78 2.05 0 2.83L4 21.41c.39.39.9.59 1.41.59.51 0 1.02-.2 1.41-.59l7.78-7.78 2.81-2.81c.8-.78.8-2.07 0-2.86zM5.41 20L4 18.59l7.72-7.72 1.47 1.35L5.41 20z\"/>\n",
              "  </svg>\n",
              "      </button>\n",
              "      \n",
              "  <style>\n",
              "    .colab-df-container {\n",
              "      display:flex;\n",
              "      flex-wrap:wrap;\n",
              "      gap: 12px;\n",
              "    }\n",
              "\n",
              "    .colab-df-convert {\n",
              "      background-color: #E8F0FE;\n",
              "      border: none;\n",
              "      border-radius: 50%;\n",
              "      cursor: pointer;\n",
              "      display: none;\n",
              "      fill: #1967D2;\n",
              "      height: 32px;\n",
              "      padding: 0 0 0 0;\n",
              "      width: 32px;\n",
              "    }\n",
              "\n",
              "    .colab-df-convert:hover {\n",
              "      background-color: #E2EBFA;\n",
              "      box-shadow: 0px 1px 2px rgba(60, 64, 67, 0.3), 0px 1px 3px 1px rgba(60, 64, 67, 0.15);\n",
              "      fill: #174EA6;\n",
              "    }\n",
              "\n",
              "    [theme=dark] .colab-df-convert {\n",
              "      background-color: #3B4455;\n",
              "      fill: #D2E3FC;\n",
              "    }\n",
              "\n",
              "    [theme=dark] .colab-df-convert:hover {\n",
              "      background-color: #434B5C;\n",
              "      box-shadow: 0px 1px 3px 1px rgba(0, 0, 0, 0.15);\n",
              "      filter: drop-shadow(0px 1px 2px rgba(0, 0, 0, 0.3));\n",
              "      fill: #FFFFFF;\n",
              "    }\n",
              "  </style>\n",
              "\n",
              "      <script>\n",
              "        const buttonEl =\n",
              "          document.querySelector('#df-a45bc58a-be29-4caa-ad15-2dd49ff227d7 button.colab-df-convert');\n",
              "        buttonEl.style.display =\n",
              "          google.colab.kernel.accessAllowed ? 'block' : 'none';\n",
              "\n",
              "        async function convertToInteractive(key) {\n",
              "          const element = document.querySelector('#df-a45bc58a-be29-4caa-ad15-2dd49ff227d7');\n",
              "          const dataTable =\n",
              "            await google.colab.kernel.invokeFunction('convertToInteractive',\n",
              "                                                     [key], {});\n",
              "          if (!dataTable) return;\n",
              "\n",
              "          const docLinkHtml = 'Like what you see? Visit the ' +\n",
              "            '<a target=\"_blank\" href=https://colab.research.google.com/notebooks/data_table.ipynb>data table notebook</a>'\n",
              "            + ' to learn more about interactive tables.';\n",
              "          element.innerHTML = '';\n",
              "          dataTable['output_type'] = 'display_data';\n",
              "          await google.colab.output.renderOutput(dataTable, element);\n",
              "          const docLink = document.createElement('div');\n",
              "          docLink.innerHTML = docLinkHtml;\n",
              "          element.appendChild(docLink);\n",
              "        }\n",
              "      </script>\n",
              "    </div>\n",
              "  </div>\n",
              "  "
            ]
          },
          "metadata": {},
          "execution_count": 13
        }
      ]
    },
    {
      "cell_type": "code",
      "source": [
        "plt.hist(X['NPads'])\n",
        "plt.xscale('log')\n",
        "plt.yscale('log')"
      ],
      "metadata": {
        "colab": {
          "base_uri": "https://localhost:8080/",
          "height": 269
        },
        "id": "9YJBcJVuEEPx",
        "outputId": "fe390ce0-c1e8-4c54-c46d-a80fd922db75"
      },
      "execution_count": null,
      "outputs": [
        {
          "output_type": "display_data",
          "data": {
            "text/plain": [
              "<Figure size 432x288 with 1 Axes>"
            ],
            "image/png": "[encoded data removed]"
          },
          "metadata": {
            "needs_background": "light"
          }
        }
      ]
    },
    {
      "cell_type": "code",
      "source": [
        "from sklearn.compose import ColumnTransformer\n",
        "from sklearn.pipeline import Pipeline\n",
        "from sklearn.preprocessing import Normalizer"
      ],
      "metadata": {
        "id": "CK8NsIDbBhcU"
      },
      "execution_count": null,
      "outputs": []
    },
    {
      "cell_type": "code",
      "source": [
        "preprocessor = ColumnTransformer(\n",
        "    transformers=[(\"norm\", Normalizer(), X.drop(columns=['NPads','NTimeS']).columns)]\n",
        ")"
      ],
      "metadata": {
        "id": "i_rAVpFJJJOg"
      },
      "execution_count": null,
      "outputs": []
    },
    {
      "cell_type": "code",
      "source": [
        "from sklearn.model_selection import train_test_split\n",
        "\n",
        "X_train, X_valid, y_train, y_valid = train_test_split(X, y, test_size=0.2)\n",
        "X_valid1, X_valid2, y_valid1, y_valid2 = train_test_split(X_valid, y_valid, test_size=0.5)"
      ],
      "metadata": {
        "id": "oGALvdgcKi5W"
      },
      "execution_count": null,
      "outputs": []
    },
    {
      "cell_type": "code",
      "source": [
        "from xgboost import XGBRegressor, XGBClassifier"
      ],
      "metadata": {
        "id": "DbeQN670K3au"
      },
      "execution_count": null,
      "outputs": []
    },
    {
      "cell_type": "code",
      "source": [
        "X_train = preprocessor.fit_transform(X_train)"
      ],
      "metadata": {
        "id": "BCM2gNOAxWcO"
      },
      "execution_count": null,
      "outputs": []
    },
    {
      "cell_type": "code",
      "source": [
        "X_valid1 = preprocessor.transform(X_valid1)\n",
        "X_valid2 = preprocessor.transform(X_valid2)"
      ],
      "metadata": {
        "id": "qES4fDQwxs9L"
      },
      "execution_count": null,
      "outputs": []
    },
    {
      "cell_type": "code",
      "source": [
        "my_model = XGBClassifier(n_estimators=20)"
      ],
      "metadata": {
        "id": "BRAyTPBOZ_yP"
      },
      "execution_count": null,
      "outputs": []
    },
    {
      "cell_type": "code",
      "source": [
        "my_model.fit(X_train, y_train,\n",
        "             eval_set=[(X_valid1, y_valid1), (X_valid2, y_valid2)],\n",
        "            early_stopping_rounds=3,\n",
        ")"
      ],
      "metadata": {
        "colab": {
          "base_uri": "https://localhost:8080/"
        },
        "id": "4EibJDHBaBrW",
        "outputId": "5456c78f-fca9-4330-bb3e-730cd9f5ef07"
      },
      "execution_count": null,
      "outputs": [
        {
          "output_type": "stream",
          "name": "stdout",
          "text": [
            "[09:19:04] WARNING: /workspace/src/learner.cc:686: Tree method is automatically selected to be 'approx' for faster speed. To use old behavior (exact greedy algorithm on single machine), set tree_method to 'exact'.\n",
            "[0]\tvalidation_0-error:0.193684\tvalidation_1-error:0.192861\n",
            "Multiple eval metrics have been passed: 'validation_1-error' will be used for early stopping.\n",
            "\n",
            "Will train until validation_1-error hasn't improved in 3 rounds.\n",
            "[1]\tvalidation_0-error:0.191138\tvalidation_1-error:0.190234\n",
            "[2]\tvalidation_0-error:0.19337\tvalidation_1-error:0.192537\n",
            "[3]\tvalidation_0-error:0.191074\tvalidation_1-error:0.190167\n",
            "[4]\tvalidation_0-error:0.191527\tvalidation_1-error:0.190558\n",
            "[5]\tvalidation_0-error:0.189975\tvalidation_1-error:0.189098\n",
            "[6]\tvalidation_0-error:0.190856\tvalidation_1-error:0.189932\n",
            "[7]\tvalidation_0-error:0.187924\tvalidation_1-error:0.187054\n",
            "[8]\tvalidation_0-error:0.186011\tvalidation_1-error:0.185082\n",
            "[9]\tvalidation_0-error:0.185002\tvalidation_1-error:0.184131\n",
            "[10]\tvalidation_0-error:0.18318\tvalidation_1-error:0.18224\n",
            "[11]\tvalidation_0-error:0.181416\tvalidation_1-error:0.180506\n",
            "[12]\tvalidation_0-error:0.180654\tvalidation_1-error:0.179646\n",
            "[13]\tvalidation_0-error:0.173039\tvalidation_1-error:0.172349\n",
            "[14]\tvalidation_0-error:0.170385\tvalidation_1-error:0.169678\n",
            "[15]\tvalidation_0-error:0.166337\tvalidation_1-error:0.165704\n",
            "[16]\tvalidation_0-error:0.163845\tvalidation_1-error:0.163211\n",
            "[17]\tvalidation_0-error:0.159885\tvalidation_1-error:0.159285\n",
            "[18]\tvalidation_0-error:0.158552\tvalidation_1-error:0.157848\n",
            "[19]\tvalidation_0-error:0.15851\tvalidation_1-error:0.157897\n"
          ]
        },
        {
          "output_type": "execute_result",
          "data": {
            "text/plain": [
              "XGBClassifier(n_estimators=20)"
            ]
          },
          "metadata": {},
          "execution_count": 29
        }
      ]
    },
    {
      "cell_type": "code",
      "source": [
        "from sklearn.metrics import confusion_matrix"
      ],
      "metadata": {
        "id": "60xE8TvCa4OB"
      },
      "execution_count": null,
      "outputs": []
    },
    {
      "cell_type": "code",
      "source": [
        "predicts = my_model.predict(X_valid1)"
      ],
      "metadata": {
        "id": "G_dXGZsb9cdS"
      },
      "execution_count": null,
      "outputs": []
    },
    {
      "cell_type": "code",
      "source": [
        "predicts"
      ],
      "metadata": {
        "colab": {
          "base_uri": "https://localhost:8080/"
        },
        "id": "zNTbD7ed9ytc",
        "outputId": "7e11c857-ec27-40f4-af9f-4e983cc4cad0"
      },
      "execution_count": null,
      "outputs": [
        {
          "output_type": "execute_result",
          "data": {
            "text/plain": [
              "array([1, 0, 1, ..., 1, 0, 1])"
            ]
          },
          "metadata": {},
          "execution_count": 33
        }
      ]
    },
    {
      "cell_type": "code",
      "source": [
        "matrix = confusion_matrix(y_valid1, predicts)"
      ],
      "metadata": {
        "id": "u1RJ3ajY9g9u"
      },
      "execution_count": null,
      "outputs": []
    },
    {
      "cell_type": "code",
      "source": [
        "matrix"
      ],
      "metadata": {
        "colab": {
          "base_uri": "https://localhost:8080/"
        },
        "id": "_tQ504fqA9LA",
        "outputId": "18435c08-5ef9-46ed-8a98-e1078ce20664"
      },
      "execution_count": null,
      "outputs": [
        {
          "output_type": "execute_result",
          "data": {
            "text/plain": [
              "array([[637295, 155896],\n",
              "       [ 60174, 509402]])"
            ]
          },
          "metadata": {},
          "execution_count": 36
        }
      ]
    },
    {
      "cell_type": "code",
      "source": [
        "matrix/len(X_valid1)"
      ],
      "metadata": {
        "colab": {
          "base_uri": "https://localhost:8080/"
        },
        "id": "6R5NefJPBCih",
        "outputId": "fad1796e-9e02-4484-9497-caf794f0fcbd"
      },
      "execution_count": null,
      "outputs": [
        {
          "output_type": "execute_result",
          "data": {
            "text/plain": [
              "array([[0.46764781, 0.11439667],\n",
              "       [0.04415575, 0.37379978]])"
            ]
          },
          "metadata": {},
          "execution_count": 38
        }
      ]
    },
    {
      "cell_type": "code",
      "source": [
        "old_matrix = np.array([[18189, 2148], [1926, 18173]])"
      ],
      "metadata": {
        "id": "QGZz-m3qBeXg"
      },
      "execution_count": null,
      "outputs": []
    },
    {
      "cell_type": "code",
      "source": [
        "old_matrix/40436"
      ],
      "metadata": {
        "colab": {
          "base_uri": "https://localhost:8080/"
        },
        "id": "kRdfbwRoBvXo",
        "outputId": "dc1c95f2-30e8-4e4a-c164-beb48551329c"
      },
      "execution_count": null,
      "outputs": [
        {
          "output_type": "execute_result",
          "data": {
            "text/plain": [
              "array([[0.44982194, 0.05312098],\n",
              "       [0.04763082, 0.44942625]])"
            ]
          },
          "metadata": {},
          "execution_count": 43
        }
      ]
    },
    {
      "cell_type": "code",
      "source": [
        "def compare_matrixes(model, valid_x, valid_y):\n",
        "  new = confusion_matrix(valid_y, model.predict(valid_x))\n",
        "  old = np.array([[18189, 2148], [1926, 18173]])\n",
        "  print(f\"{old/40436}\\n-\\n{new/len(valid_y)}\\n=\\n{old/40436 - new/len(valid_y)}\")"
      ],
      "metadata": {
        "id": "lmpJcVG_Yt3H"
      },
      "execution_count": null,
      "outputs": []
    },
    {
      "cell_type": "markdown",
      "source": [
        "interestingly enough, XGBoost performs slightly better on true positives, worse on true negatives. Wonder if fiddling with meta parameters can boost this a in any way."
      ],
      "metadata": {
        "id": "JK3hYiDlKfJ-"
      }
    },
    {
      "cell_type": "code",
      "source": [
        "my_model2 = XGBClassifier(n_estimators=100, learning_rate=0.05)"
      ],
      "metadata": {
        "id": "_MYjDBpAJ1Xr"
      },
      "execution_count": null,
      "outputs": []
    },
    {
      "cell_type": "code",
      "source": [
        "my_model2.fit(X_train, y_train,\n",
        "             eval_set=[(X_valid1, y_valid1), (X_valid2, y_valid2)],\n",
        "             early_stopping_rounds=3,\n",
        ")"
      ],
      "metadata": {
        "colab": {
          "base_uri": "https://localhost:8080/"
        },
        "id": "ShVHibPPJ5NE",
        "outputId": "b0f65956-d24d-4a4e-ad60-1696e9e108a9"
      },
      "execution_count": null,
      "outputs": [
        {
          "output_type": "stream",
          "name": "stdout",
          "text": [
            "[10:54:44] WARNING: /workspace/src/learner.cc:686: Tree method is automatically selected to be 'approx' for faster speed. To use old behavior (exact greedy algorithm on single machine), set tree_method to 'exact'.\n",
            "[0]\tvalidation_0-error:0.194369\tvalidation_1-error:0.194783\n",
            "Multiple eval metrics have been passed: 'validation_1-error' will be used for early stopping.\n",
            "\n",
            "Will train until validation_1-error hasn't improved in 3 rounds.\n",
            "[1]\tvalidation_0-error:0.193556\tvalidation_1-error:0.193791\n",
            "[2]\tvalidation_0-error:0.194107\tvalidation_1-error:0.194539\n",
            "[3]\tvalidation_0-error:0.193204\tvalidation_1-error:0.19349\n",
            "[4]\tvalidation_0-error:0.192263\tvalidation_1-error:0.192661\n",
            "[5]\tvalidation_0-error:0.192935\tvalidation_1-error:0.193241\n",
            "[6]\tvalidation_0-error:0.19192\tvalidation_1-error:0.192322\n",
            "[7]\tvalidation_0-error:0.191927\tvalidation_1-error:0.192347\n",
            "[8]\tvalidation_0-error:0.191631\tvalidation_1-error:0.192053\n",
            "[9]\tvalidation_0-error:0.191021\tvalidation_1-error:0.191361\n",
            "[10]\tvalidation_0-error:0.190797\tvalidation_1-error:0.191157\n",
            "[11]\tvalidation_0-error:0.190722\tvalidation_1-error:0.19112\n",
            "[12]\tvalidation_0-error:0.190157\tvalidation_1-error:0.190477\n",
            "[13]\tvalidation_0-error:0.189161\tvalidation_1-error:0.189392\n",
            "[14]\tvalidation_0-error:0.190077\tvalidation_1-error:0.19038\n",
            "[15]\tvalidation_0-error:0.188416\tvalidation_1-error:0.188652\n",
            "[16]\tvalidation_0-error:0.185202\tvalidation_1-error:0.185448\n",
            "[17]\tvalidation_0-error:0.185523\tvalidation_1-error:0.185677\n",
            "[18]\tvalidation_0-error:0.183934\tvalidation_1-error:0.184148\n",
            "[19]\tvalidation_0-error:0.18423\tvalidation_1-error:0.184528\n",
            "[20]\tvalidation_0-error:0.183295\tvalidation_1-error:0.183537\n",
            "[21]\tvalidation_0-error:0.182741\tvalidation_1-error:0.183004\n",
            "[22]\tvalidation_0-error:0.183517\tvalidation_1-error:0.183768\n",
            "[23]\tvalidation_0-error:0.181339\tvalidation_1-error:0.181614\n",
            "[24]\tvalidation_0-error:0.180679\tvalidation_1-error:0.180949\n",
            "[25]\tvalidation_0-error:0.179864\tvalidation_1-error:0.180169\n",
            "[26]\tvalidation_0-error:0.175654\tvalidation_1-error:0.176009\n",
            "[27]\tvalidation_0-error:0.173209\tvalidation_1-error:0.173525\n",
            "[28]\tvalidation_0-error:0.172139\tvalidation_1-error:0.172437\n",
            "[29]\tvalidation_0-error:0.16861\tvalidation_1-error:0.168708\n",
            "[30]\tvalidation_0-error:0.167641\tvalidation_1-error:0.167792\n",
            "[31]\tvalidation_0-error:0.166107\tvalidation_1-error:0.166167\n",
            "[32]\tvalidation_0-error:0.165364\tvalidation_1-error:0.165463\n",
            "[33]\tvalidation_0-error:0.16242\tvalidation_1-error:0.162311\n",
            "[34]\tvalidation_0-error:0.161808\tvalidation_1-error:0.161778\n",
            "[35]\tvalidation_0-error:0.161054\tvalidation_1-error:0.16108\n",
            "[36]\tvalidation_0-error:0.159463\tvalidation_1-error:0.159397\n",
            "[37]\tvalidation_0-error:0.15919\tvalidation_1-error:0.159135\n",
            "[38]\tvalidation_0-error:0.15791\tvalidation_1-error:0.157863\n",
            "[39]\tvalidation_0-error:0.158081\tvalidation_1-error:0.158095\n",
            "[40]\tvalidation_0-error:0.156892\tvalidation_1-error:0.156935\n",
            "[41]\tvalidation_0-error:0.156027\tvalidation_1-error:0.156009\n",
            "[42]\tvalidation_0-error:0.155371\tvalidation_1-error:0.155257\n",
            "[43]\tvalidation_0-error:0.154456\tvalidation_1-error:0.154304\n",
            "[44]\tvalidation_0-error:0.153536\tvalidation_1-error:0.153502\n",
            "[45]\tvalidation_0-error:0.15275\tvalidation_1-error:0.152862\n",
            "[46]\tvalidation_0-error:0.152408\tvalidation_1-error:0.152498\n",
            "[47]\tvalidation_0-error:0.151773\tvalidation_1-error:0.151872\n",
            "[48]\tvalidation_0-error:0.151194\tvalidation_1-error:0.151256\n",
            "[49]\tvalidation_0-error:0.150648\tvalidation_1-error:0.150641\n",
            "[50]\tvalidation_0-error:0.150894\tvalidation_1-error:0.150875\n",
            "[51]\tvalidation_0-error:0.150395\tvalidation_1-error:0.150313\n",
            "[52]\tvalidation_0-error:0.149502\tvalidation_1-error:0.149504\n",
            "[53]\tvalidation_0-error:0.149461\tvalidation_1-error:0.149471\n",
            "[54]\tvalidation_0-error:0.14953\tvalidation_1-error:0.149526\n",
            "[55]\tvalidation_0-error:0.1487\tvalidation_1-error:0.148674\n",
            "[56]\tvalidation_0-error:0.148049\tvalidation_1-error:0.148011\n",
            "[57]\tvalidation_0-error:0.147735\tvalidation_1-error:0.147691\n",
            "[58]\tvalidation_0-error:0.147273\tvalidation_1-error:0.147306\n",
            "[59]\tvalidation_0-error:0.147052\tvalidation_1-error:0.147105\n",
            "[60]\tvalidation_0-error:0.146803\tvalidation_1-error:0.14682\n",
            "[61]\tvalidation_0-error:0.146672\tvalidation_1-error:0.146631\n",
            "[62]\tvalidation_0-error:0.146138\tvalidation_1-error:0.146038\n",
            "[63]\tvalidation_0-error:0.146268\tvalidation_1-error:0.146103\n",
            "[64]\tvalidation_0-error:0.146163\tvalidation_1-error:0.146053\n",
            "[65]\tvalidation_0-error:0.145569\tvalidation_1-error:0.145465\n",
            "[66]\tvalidation_0-error:0.145351\tvalidation_1-error:0.145195\n",
            "[67]\tvalidation_0-error:0.144982\tvalidation_1-error:0.144845\n",
            "[68]\tvalidation_0-error:0.144889\tvalidation_1-error:0.144761\n",
            "[69]\tvalidation_0-error:0.144241\tvalidation_1-error:0.144085\n",
            "[70]\tvalidation_0-error:0.143911\tvalidation_1-error:0.143749\n",
            "[71]\tvalidation_0-error:0.143626\tvalidation_1-error:0.143499\n",
            "[72]\tvalidation_0-error:0.143201\tvalidation_1-error:0.143115\n",
            "[73]\tvalidation_0-error:0.143056\tvalidation_1-error:0.142961\n",
            "[74]\tvalidation_0-error:0.142754\tvalidation_1-error:0.142639\n",
            "[75]\tvalidation_0-error:0.142232\tvalidation_1-error:0.142094\n",
            "[76]\tvalidation_0-error:0.14229\tvalidation_1-error:0.142228\n",
            "[77]\tvalidation_0-error:0.142101\tvalidation_1-error:0.142042\n",
            "[78]\tvalidation_0-error:0.141908\tvalidation_1-error:0.14181\n",
            "[79]\tvalidation_0-error:0.141384\tvalidation_1-error:0.141369\n",
            "[80]\tvalidation_0-error:0.141153\tvalidation_1-error:0.141146\n",
            "[81]\tvalidation_0-error:0.141086\tvalidation_1-error:0.141088\n",
            "[82]\tvalidation_0-error:0.140808\tvalidation_1-error:0.140701\n",
            "[83]\tvalidation_0-error:0.140342\tvalidation_1-error:0.140116\n",
            "[84]\tvalidation_0-error:0.140215\tvalidation_1-error:0.139965\n",
            "[85]\tvalidation_0-error:0.139929\tvalidation_1-error:0.139694\n",
            "[86]\tvalidation_0-error:0.13979\tvalidation_1-error:0.139612\n",
            "[87]\tvalidation_0-error:0.139714\tvalidation_1-error:0.139537\n",
            "[88]\tvalidation_0-error:0.139587\tvalidation_1-error:0.139432\n",
            "[89]\tvalidation_0-error:0.139452\tvalidation_1-error:0.139268\n",
            "[90]\tvalidation_0-error:0.13936\tvalidation_1-error:0.13914\n",
            "[91]\tvalidation_0-error:0.139316\tvalidation_1-error:0.139095\n",
            "[92]\tvalidation_0-error:0.139055\tvalidation_1-error:0.138892\n",
            "[93]\tvalidation_0-error:0.138905\tvalidation_1-error:0.138735\n",
            "[94]\tvalidation_0-error:0.138786\tvalidation_1-error:0.138652\n",
            "[95]\tvalidation_0-error:0.138721\tvalidation_1-error:0.138633\n",
            "[96]\tvalidation_0-error:0.138644\tvalidation_1-error:0.138509\n",
            "[97]\tvalidation_0-error:0.138426\tvalidation_1-error:0.138276\n",
            "[98]\tvalidation_0-error:0.138288\tvalidation_1-error:0.138168\n",
            "[99]\tvalidation_0-error:0.137954\tvalidation_1-error:0.137816\n"
          ]
        },
        {
          "output_type": "execute_result",
          "data": {
            "text/plain": [
              "XGBClassifier(learning_rate=0.05)"
            ]
          },
          "metadata": {},
          "execution_count": 19
        }
      ]
    },
    {
      "cell_type": "code",
      "source": [
        "compare_matrixes(my_model2, X_valid1, y_valid1)"
      ],
      "metadata": {
        "colab": {
          "base_uri": "https://localhost:8080/"
        },
        "id": "57JMEPSnYXvb",
        "outputId": "66c5a7cf-be93-441d-996a-f01c0cfee6ca"
      },
      "execution_count": null,
      "outputs": [
        {
          "output_type": "stream",
          "name": "stdout",
          "text": [
            "[[0.44982194 0.05312098]\n",
            " [0.04763082 0.44942625]]\n",
            "-\n",
            "[[0.4864133  0.0960465 ]\n",
            " [0.04190738 0.37563281]]\n",
            "=\n",
            "[[-0.03659136 -0.04292552]\n",
            " [ 0.00572344  0.07379344]]\n"
          ]
        }
      ]
    },
    {
      "cell_type": "code",
      "source": [
        "my_model3 = XGBClassifier(n_estimators=200, learning_rate=0.07)"
      ],
      "metadata": {
        "id": "lLiv_3lWYkBB"
      },
      "execution_count": null,
      "outputs": []
    },
    {
      "cell_type": "code",
      "source": [
        "my_model3.fit(X_train, y_train,\n",
        "             eval_set=[(X_valid1, y_valid1), (X_valid2, y_valid2)],\n",
        "             early_stopping_rounds=3,\n",
        ")"
      ],
      "metadata": {
        "colab": {
          "base_uri": "https://localhost:8080/"
        },
        "id": "cul3V-GvnPM3",
        "outputId": "5a4288ee-997a-436c-8f51-e0ca553d0c77"
      },
      "execution_count": null,
      "outputs": [
        {
          "output_type": "stream",
          "name": "stdout",
          "text": [
            "[11:46:32] WARNING: /workspace/src/learner.cc:686: Tree method is automatically selected to be 'approx' for faster speed. To use old behavior (exact greedy algorithm on single machine), set tree_method to 'exact'.\n",
            "[0]\tvalidation_0-error:0.194369\tvalidation_1-error:0.194783\n",
            "Multiple eval metrics have been passed: 'validation_1-error' will be used for early stopping.\n",
            "\n",
            "Will train until validation_1-error hasn't improved in 3 rounds.\n",
            "[1]\tvalidation_0-error:0.193485\tvalidation_1-error:0.193726\n",
            "[2]\tvalidation_0-error:0.19401\tvalidation_1-error:0.194451\n",
            "[3]\tvalidation_0-error:0.193287\tvalidation_1-error:0.193542\n",
            "[4]\tvalidation_0-error:0.192104\tvalidation_1-error:0.19248\n",
            "[5]\tvalidation_0-error:0.191543\tvalidation_1-error:0.191711\n",
            "[6]\tvalidation_0-error:0.190437\tvalidation_1-error:0.190637\n",
            "[7]\tvalidation_0-error:0.190509\tvalidation_1-error:0.190785\n",
            "[8]\tvalidation_0-error:0.19014\tvalidation_1-error:0.190333\n",
            "[9]\tvalidation_0-error:0.190708\tvalidation_1-error:0.191012\n",
            "[10]\tvalidation_0-error:0.190101\tvalidation_1-error:0.190294\n",
            "[11]\tvalidation_0-error:0.188006\tvalidation_1-error:0.188173\n",
            "[12]\tvalidation_0-error:0.188398\tvalidation_1-error:0.188577\n",
            "[13]\tvalidation_0-error:0.186576\tvalidation_1-error:0.186857\n",
            "[14]\tvalidation_0-error:0.185182\tvalidation_1-error:0.185333\n",
            "[15]\tvalidation_0-error:0.184337\tvalidation_1-error:0.184485\n",
            "[16]\tvalidation_0-error:0.181385\tvalidation_1-error:0.181644\n",
            "[17]\tvalidation_0-error:0.180462\tvalidation_1-error:0.180745\n",
            "[18]\tvalidation_0-error:0.175694\tvalidation_1-error:0.176111\n",
            "[19]\tvalidation_0-error:0.172239\tvalidation_1-error:0.17266\n",
            "[20]\tvalidation_0-error:0.16958\tvalidation_1-error:0.169938\n",
            "[21]\tvalidation_0-error:0.167927\tvalidation_1-error:0.168308\n",
            "[22]\tvalidation_0-error:0.164688\tvalidation_1-error:0.164812\n",
            "[23]\tvalidation_0-error:0.164035\tvalidation_1-error:0.164234\n",
            "[24]\tvalidation_0-error:0.163272\tvalidation_1-error:0.163491\n",
            "[25]\tvalidation_0-error:0.159716\tvalidation_1-error:0.159778\n",
            "[26]\tvalidation_0-error:0.157897\tvalidation_1-error:0.157966\n",
            "[27]\tvalidation_0-error:0.157942\tvalidation_1-error:0.158112\n",
            "[28]\tvalidation_0-error:0.156093\tvalidation_1-error:0.156106\n",
            "[29]\tvalidation_0-error:0.155546\tvalidation_1-error:0.155603\n",
            "[30]\tvalidation_0-error:0.15439\tvalidation_1-error:0.154412\n",
            "[31]\tvalidation_0-error:0.153582\tvalidation_1-error:0.153584\n",
            "[32]\tvalidation_0-error:0.152575\tvalidation_1-error:0.152649\n",
            "[33]\tvalidation_0-error:0.152129\tvalidation_1-error:0.152183\n",
            "[34]\tvalidation_0-error:0.151348\tvalidation_1-error:0.151511\n",
            "[35]\tvalidation_0-error:0.151162\tvalidation_1-error:0.15125\n",
            "[36]\tvalidation_0-error:0.149913\tvalidation_1-error:0.149889\n",
            "[37]\tvalidation_0-error:0.148976\tvalidation_1-error:0.148874\n",
            "[38]\tvalidation_0-error:0.148682\tvalidation_1-error:0.148554\n",
            "[39]\tvalidation_0-error:0.148157\tvalidation_1-error:0.148069\n",
            "[40]\tvalidation_0-error:0.147288\tvalidation_1-error:0.147251\n",
            "[41]\tvalidation_0-error:0.146793\tvalidation_1-error:0.146682\n",
            "[42]\tvalidation_0-error:0.146182\tvalidation_1-error:0.145991\n",
            "[43]\tvalidation_0-error:0.146092\tvalidation_1-error:0.145879\n",
            "[44]\tvalidation_0-error:0.14494\tvalidation_1-error:0.144761\n",
            "[45]\tvalidation_0-error:0.144265\tvalidation_1-error:0.144218\n",
            "[46]\tvalidation_0-error:0.144147\tvalidation_1-error:0.144055\n",
            "[47]\tvalidation_0-error:0.14359\tvalidation_1-error:0.143444\n",
            "[48]\tvalidation_0-error:0.142969\tvalidation_1-error:0.142847\n",
            "[49]\tvalidation_0-error:0.142517\tvalidation_1-error:0.142437\n",
            "[50]\tvalidation_0-error:0.142321\tvalidation_1-error:0.142329\n",
            "[51]\tvalidation_0-error:0.141839\tvalidation_1-error:0.1419\n",
            "[52]\tvalidation_0-error:0.14196\tvalidation_1-error:0.14198\n",
            "[53]\tvalidation_0-error:0.141474\tvalidation_1-error:0.141403\n",
            "[54]\tvalidation_0-error:0.141041\tvalidation_1-error:0.140896\n",
            "[55]\tvalidation_0-error:0.140913\tvalidation_1-error:0.140825\n",
            "[56]\tvalidation_0-error:0.140611\tvalidation_1-error:0.140414\n",
            "[57]\tvalidation_0-error:0.140381\tvalidation_1-error:0.140224\n",
            "[58]\tvalidation_0-error:0.139787\tvalidation_1-error:0.139667\n",
            "[59]\tvalidation_0-error:0.139096\tvalidation_1-error:0.138912\n",
            "[60]\tvalidation_0-error:0.138764\tvalidation_1-error:0.138548\n",
            "[61]\tvalidation_0-error:0.138626\tvalidation_1-error:0.138385\n",
            "[62]\tvalidation_0-error:0.138195\tvalidation_1-error:0.137964\n",
            "[63]\tvalidation_0-error:0.138074\tvalidation_1-error:0.137825\n",
            "[64]\tvalidation_0-error:0.137699\tvalidation_1-error:0.137437\n",
            "[65]\tvalidation_0-error:0.137683\tvalidation_1-error:0.137382\n",
            "[66]\tvalidation_0-error:0.137634\tvalidation_1-error:0.137382\n",
            "[67]\tvalidation_0-error:0.13738\tvalidation_1-error:0.137147\n",
            "[68]\tvalidation_0-error:0.137109\tvalidation_1-error:0.136869\n",
            "[69]\tvalidation_0-error:0.137169\tvalidation_1-error:0.136893\n",
            "[70]\tvalidation_0-error:0.137173\tvalidation_1-error:0.136892\n",
            "[71]\tvalidation_0-error:0.137103\tvalidation_1-error:0.136844\n",
            "[72]\tvalidation_0-error:0.137031\tvalidation_1-error:0.136802\n",
            "[73]\tvalidation_0-error:0.136619\tvalidation_1-error:0.136368\n",
            "[74]\tvalidation_0-error:0.136329\tvalidation_1-error:0.136132\n",
            "[75]\tvalidation_0-error:0.136089\tvalidation_1-error:0.135865\n",
            "[76]\tvalidation_0-error:0.135796\tvalidation_1-error:0.135519\n",
            "[77]\tvalidation_0-error:0.135308\tvalidation_1-error:0.13505\n",
            "[78]\tvalidation_0-error:0.135117\tvalidation_1-error:0.134869\n",
            "[79]\tvalidation_0-error:0.134804\tvalidation_1-error:0.134551\n",
            "[80]\tvalidation_0-error:0.134247\tvalidation_1-error:0.134013\n",
            "[81]\tvalidation_0-error:0.133933\tvalidation_1-error:0.133671\n",
            "[82]\tvalidation_0-error:0.133792\tvalidation_1-error:0.133519\n",
            "[83]\tvalidation_0-error:0.133764\tvalidation_1-error:0.133486\n",
            "[84]\tvalidation_0-error:0.133603\tvalidation_1-error:0.133311\n",
            "[85]\tvalidation_0-error:0.133261\tvalidation_1-error:0.133019\n",
            "[86]\tvalidation_0-error:0.132803\tvalidation_1-error:0.132552\n",
            "[87]\tvalidation_0-error:0.132691\tvalidation_1-error:0.132433\n",
            "[88]\tvalidation_0-error:0.132615\tvalidation_1-error:0.132287\n",
            "[89]\tvalidation_0-error:0.132431\tvalidation_1-error:0.132044\n",
            "[90]\tvalidation_0-error:0.131919\tvalidation_1-error:0.131623\n",
            "[91]\tvalidation_0-error:0.131733\tvalidation_1-error:0.1315\n",
            "[92]\tvalidation_0-error:0.131621\tvalidation_1-error:0.131367\n",
            "[93]\tvalidation_0-error:0.131447\tvalidation_1-error:0.131142\n",
            "[94]\tvalidation_0-error:0.131428\tvalidation_1-error:0.131067\n",
            "[95]\tvalidation_0-error:0.131253\tvalidation_1-error:0.130948\n",
            "[96]\tvalidation_0-error:0.131097\tvalidation_1-error:0.130835\n",
            "[97]\tvalidation_0-error:0.130991\tvalidation_1-error:0.130717\n",
            "[98]\tvalidation_0-error:0.130919\tvalidation_1-error:0.130704\n",
            "[99]\tvalidation_0-error:0.130572\tvalidation_1-error:0.130361\n",
            "[100]\tvalidation_0-error:0.130417\tvalidation_1-error:0.13016\n",
            "[101]\tvalidation_0-error:0.130258\tvalidation_1-error:0.129969\n",
            "[102]\tvalidation_0-error:0.130168\tvalidation_1-error:0.129881\n",
            "[103]\tvalidation_0-error:0.130168\tvalidation_1-error:0.129886\n",
            "[104]\tvalidation_0-error:0.130049\tvalidation_1-error:0.129769\n",
            "[105]\tvalidation_0-error:0.129958\tvalidation_1-error:0.129677\n",
            "[106]\tvalidation_0-error:0.129783\tvalidation_1-error:0.129407\n",
            "[107]\tvalidation_0-error:0.1296\tvalidation_1-error:0.129235\n",
            "[108]\tvalidation_0-error:0.129605\tvalidation_1-error:0.129243\n",
            "[109]\tvalidation_0-error:0.129482\tvalidation_1-error:0.129181\n",
            "[110]\tvalidation_0-error:0.129376\tvalidation_1-error:0.129144\n",
            "[111]\tvalidation_0-error:0.129343\tvalidation_1-error:0.129079\n",
            "[112]\tvalidation_0-error:0.129194\tvalidation_1-error:0.128963\n",
            "[113]\tvalidation_0-error:0.129076\tvalidation_1-error:0.128781\n",
            "[114]\tvalidation_0-error:0.129004\tvalidation_1-error:0.128751\n",
            "[115]\tvalidation_0-error:0.128941\tvalidation_1-error:0.12869\n",
            "[116]\tvalidation_0-error:0.128726\tvalidation_1-error:0.128478\n",
            "[117]\tvalidation_0-error:0.128646\tvalidation_1-error:0.128417\n",
            "[118]\tvalidation_0-error:0.128437\tvalidation_1-error:0.128147\n",
            "[119]\tvalidation_0-error:0.128337\tvalidation_1-error:0.128051\n",
            "[120]\tvalidation_0-error:0.128306\tvalidation_1-error:0.128015\n",
            "[121]\tvalidation_0-error:0.128187\tvalidation_1-error:0.12787\n",
            "[122]\tvalidation_0-error:0.128157\tvalidation_1-error:0.127847\n",
            "[123]\tvalidation_0-error:0.127999\tvalidation_1-error:0.127764\n",
            "[124]\tvalidation_0-error:0.12792\tvalidation_1-error:0.127711\n",
            "[125]\tvalidation_0-error:0.127772\tvalidation_1-error:0.127564\n",
            "[126]\tvalidation_0-error:0.127741\tvalidation_1-error:0.127532\n",
            "[127]\tvalidation_0-error:0.1276\tvalidation_1-error:0.127428\n",
            "[128]\tvalidation_0-error:0.127514\tvalidation_1-error:0.12732\n",
            "[129]\tvalidation_0-error:0.127478\tvalidation_1-error:0.12729\n",
            "[130]\tvalidation_0-error:0.12742\tvalidation_1-error:0.127201\n",
            "[131]\tvalidation_0-error:0.127451\tvalidation_1-error:0.127238\n",
            "[132]\tvalidation_0-error:0.127284\tvalidation_1-error:0.12713\n",
            "[133]\tvalidation_0-error:0.127046\tvalidation_1-error:0.126941\n",
            "[134]\tvalidation_0-error:0.126962\tvalidation_1-error:0.126854\n",
            "[135]\tvalidation_0-error:0.126894\tvalidation_1-error:0.126768\n",
            "[136]\tvalidation_0-error:0.126854\tvalidation_1-error:0.126719\n",
            "[137]\tvalidation_0-error:0.126727\tvalidation_1-error:0.126647\n",
            "[138]\tvalidation_0-error:0.126693\tvalidation_1-error:0.126587\n",
            "[139]\tvalidation_0-error:0.126657\tvalidation_1-error:0.126532\n",
            "[140]\tvalidation_0-error:0.126631\tvalidation_1-error:0.126519\n",
            "[141]\tvalidation_0-error:0.126424\tvalidation_1-error:0.126322\n",
            "[142]\tvalidation_0-error:0.126347\tvalidation_1-error:0.126292\n",
            "[143]\tvalidation_0-error:0.126292\tvalidation_1-error:0.126218\n",
            "[144]\tvalidation_0-error:0.12627\tvalidation_1-error:0.126183\n",
            "[145]\tvalidation_0-error:0.126136\tvalidation_1-error:0.126049\n",
            "[146]\tvalidation_0-error:0.126102\tvalidation_1-error:0.125994\n",
            "[147]\tvalidation_0-error:0.126044\tvalidation_1-error:0.12597\n",
            "[148]\tvalidation_0-error:0.125933\tvalidation_1-error:0.125919\n",
            "[149]\tvalidation_0-error:0.125948\tvalidation_1-error:0.125924\n",
            "[150]\tvalidation_0-error:0.125862\tvalidation_1-error:0.125839\n",
            "[151]\tvalidation_0-error:0.125804\tvalidation_1-error:0.125784\n",
            "[152]\tvalidation_0-error:0.125746\tvalidation_1-error:0.12571\n",
            "[153]\tvalidation_0-error:0.125696\tvalidation_1-error:0.125608\n",
            "[154]\tvalidation_0-error:0.125589\tvalidation_1-error:0.125538\n",
            "[155]\tvalidation_0-error:0.125535\tvalidation_1-error:0.125517\n",
            "[156]\tvalidation_0-error:0.125437\tvalidation_1-error:0.125379\n",
            "[157]\tvalidation_0-error:0.125219\tvalidation_1-error:0.125123\n",
            "[158]\tvalidation_0-error:0.125215\tvalidation_1-error:0.12516\n",
            "[159]\tvalidation_0-error:0.125156\tvalidation_1-error:0.125054\n",
            "[160]\tvalidation_0-error:0.12513\tvalidation_1-error:0.125013\n",
            "[161]\tvalidation_0-error:0.125044\tvalidation_1-error:0.124944\n",
            "[162]\tvalidation_0-error:0.124999\tvalidation_1-error:0.124918\n",
            "[163]\tvalidation_0-error:0.124986\tvalidation_1-error:0.124875\n",
            "[164]\tvalidation_0-error:0.124947\tvalidation_1-error:0.1248\n",
            "[165]\tvalidation_0-error:0.124924\tvalidation_1-error:0.124817\n",
            "[166]\tvalidation_0-error:0.124718\tvalidation_1-error:0.124623\n",
            "[167]\tvalidation_0-error:0.124665\tvalidation_1-error:0.124522\n",
            "[168]\tvalidation_0-error:0.12466\tvalidation_1-error:0.124531\n",
            "[169]\tvalidation_0-error:0.124605\tvalidation_1-error:0.124469\n",
            "[170]\tvalidation_0-error:0.1245\tvalidation_1-error:0.124373\n",
            "[171]\tvalidation_0-error:0.124467\tvalidation_1-error:0.124335\n",
            "[172]\tvalidation_0-error:0.124392\tvalidation_1-error:0.124216\n",
            "[173]\tvalidation_0-error:0.124351\tvalidation_1-error:0.124187\n",
            "[174]\tvalidation_0-error:0.124356\tvalidation_1-error:0.124174\n",
            "[175]\tvalidation_0-error:0.124308\tvalidation_1-error:0.124121\n",
            "[176]\tvalidation_0-error:0.124185\tvalidation_1-error:0.124028\n",
            "[177]\tvalidation_0-error:0.124007\tvalidation_1-error:0.123853\n",
            "[178]\tvalidation_0-error:0.124009\tvalidation_1-error:0.123868\n",
            "[179]\tvalidation_0-error:0.123967\tvalidation_1-error:0.123862\n",
            "[180]\tvalidation_0-error:0.123919\tvalidation_1-error:0.123836\n",
            "[181]\tvalidation_0-error:0.123905\tvalidation_1-error:0.123846\n",
            "[182]\tvalidation_0-error:0.123893\tvalidation_1-error:0.123808\n",
            "[183]\tvalidation_0-error:0.123897\tvalidation_1-error:0.123803\n",
            "[184]\tvalidation_0-error:0.123753\tvalidation_1-error:0.123673\n",
            "[185]\tvalidation_0-error:0.123685\tvalidation_1-error:0.123637\n",
            "[186]\tvalidation_0-error:0.123652\tvalidation_1-error:0.123596\n",
            "[187]\tvalidation_0-error:0.123629\tvalidation_1-error:0.123543\n",
            "[188]\tvalidation_0-error:0.123639\tvalidation_1-error:0.123564\n",
            "[189]\tvalidation_0-error:0.12356\tvalidation_1-error:0.123501\n",
            "[190]\tvalidation_0-error:0.12354\tvalidation_1-error:0.123502\n",
            "[191]\tvalidation_0-error:0.123507\tvalidation_1-error:0.123479\n",
            "[192]\tvalidation_0-error:0.123378\tvalidation_1-error:0.123337\n",
            "[193]\tvalidation_0-error:0.123299\tvalidation_1-error:0.123272\n",
            "[194]\tvalidation_0-error:0.123251\tvalidation_1-error:0.123249\n",
            "[195]\tvalidation_0-error:0.123243\tvalidation_1-error:0.123238\n",
            "[196]\tvalidation_0-error:0.123204\tvalidation_1-error:0.123162\n",
            "[197]\tvalidation_0-error:0.122994\tvalidation_1-error:0.122936\n",
            "[198]\tvalidation_0-error:0.122945\tvalidation_1-error:0.122916\n",
            "[199]\tvalidation_0-error:0.122907\tvalidation_1-error:0.122854\n"
          ]
        },
        {
          "output_type": "execute_result",
          "data": {
            "text/plain": [
              "XGBClassifier(learning_rate=0.07, n_estimators=200)"
            ]
          },
          "metadata": {},
          "execution_count": 26
        }
      ]
    },
    {
      "cell_type": "code",
      "source": [
        "compare_matrixes(my_model3, X_valid1, y_valid1)"
      ],
      "metadata": {
        "colab": {
          "base_uri": "https://localhost:8080/"
        },
        "id": "iJ3V2cwTn4XO",
        "outputId": "d2d2c848-4fd3-4b23-9194-cd6ba76d5f5f"
      },
      "execution_count": null,
      "outputs": [
        {
          "output_type": "stream",
          "name": "stdout",
          "text": [
            "[[0.44982194 0.05312098]\n",
            " [0.04763082 0.44942625]]\n",
            "-\n",
            "[[0.50304638 0.07941343]\n",
            " [0.04349313 0.37404707]]\n",
            "=\n",
            "[[-0.05322443 -0.02629245]\n",
            " [ 0.0041377   0.07537919]]\n"
          ]
        }
      ]
    },
    {
      "cell_type": "markdown",
      "source": [
        "old model still does better on calculating true negatives, but XGB does comparatively better with true positives.\n",
        "  \n",
        "IMO the best way to go is to come up with a way to group points together into traces.\n",
        "\n",
        "Next time I will look into clustering them together, somehow. To clarify, here's a plot depicting 'traces' I mentioned:\n",
        "  \n",
        "screw this for today"
      ],
      "metadata": {
        "id": "HX6sgrFS_qsl"
      }
    },
    {
      "cell_type": "code",
      "source": [
        "predicts = my_model3.predict(X_valid1)"
      ],
      "metadata": {
        "id": "XHRndJog6Jtm"
      },
      "execution_count": null,
      "outputs": []
    },
    {
      "cell_type": "code",
      "source": [
        "X.columns"
      ],
      "metadata": {
        "colab": {
          "base_uri": "https://localhost:8080/"
        },
        "id": "p0B421NbJkNX",
        "outputId": "c5968737-4af8-4c36-920c-49199e75c512"
      },
      "execution_count": null,
      "outputs": [
        {
          "output_type": "execute_result",
          "data": {
            "text/plain": [
              "Index(['TotCharge', 'NPixels', 'NPads', 'NTimeS', 'X', 'Y', 'Z', 'MaxADC'], dtype='object')"
            ]
          },
          "metadata": {},
          "execution_count": 57
        }
      ]
    },
    {
      "cell_type": "code",
      "source": [
        "predicts = pd.DataFrame(X_valid1.copy())\n",
        "predicts.columns = X.columns"
      ],
      "metadata": {
        "colab": {
          "base_uri": "https://localhost:8080/",
          "height": 328
        },
        "id": "BamWVJ1cHjGh",
        "outputId": "01ec7ab3-9e80-49e1-f743-824f92999ceb"
      },
      "execution_count": null,
      "outputs": [
        {
          "output_type": "error",
          "ename": "ValueError",
          "evalue": "ignored",
          "traceback": [
            "\u001b[0;31m---------------------------------------------------------------------------\u001b[0m",
            "\u001b[0;31mValueError\u001b[0m                                Traceback (most recent call last)",
            "\u001b[0;32m<ipython-input-60-17deefb98d45>\u001b[0m in \u001b[0;36m<module>\u001b[0;34m\u001b[0m\n\u001b[1;32m      1\u001b[0m \u001b[0mpredicts\u001b[0m \u001b[0;34m=\u001b[0m \u001b[0mpd\u001b[0m\u001b[0;34m.\u001b[0m\u001b[0mDataFrame\u001b[0m\u001b[0;34m(\u001b[0m\u001b[0mX_valid1\u001b[0m\u001b[0;34m.\u001b[0m\u001b[0mcopy\u001b[0m\u001b[0;34m(\u001b[0m\u001b[0;34m)\u001b[0m\u001b[0;34m)\u001b[0m\u001b[0;34m\u001b[0m\u001b[0;34m\u001b[0m\u001b[0m\n\u001b[0;32m----> 2\u001b[0;31m \u001b[0mpredicts\u001b[0m\u001b[0;34m.\u001b[0m\u001b[0mcolumns\u001b[0m \u001b[0;34m=\u001b[0m \u001b[0mX\u001b[0m\u001b[0;34m.\u001b[0m\u001b[0mcolumns\u001b[0m\u001b[0;34m\u001b[0m\u001b[0;34m\u001b[0m\u001b[0m\n\u001b[0m",
            "\u001b[0;32m/usr/local/lib/python3.7/dist-packages/pandas/core/generic.py\u001b[0m in \u001b[0;36m__setattr__\u001b[0;34m(self, name, value)\u001b[0m\n\u001b[1;32m   5498\u001b[0m         \u001b[0;32mtry\u001b[0m\u001b[0;34m:\u001b[0m\u001b[0;34m\u001b[0m\u001b[0;34m\u001b[0m\u001b[0m\n\u001b[1;32m   5499\u001b[0m             \u001b[0mobject\u001b[0m\u001b[0;34m.\u001b[0m\u001b[0m__getattribute__\u001b[0m\u001b[0;34m(\u001b[0m\u001b[0mself\u001b[0m\u001b[0;34m,\u001b[0m \u001b[0mname\u001b[0m\u001b[0;34m)\u001b[0m\u001b[0;34m\u001b[0m\u001b[0;34m\u001b[0m\u001b[0m\n\u001b[0;32m-> 5500\u001b[0;31m             \u001b[0;32mreturn\u001b[0m \u001b[0mobject\u001b[0m\u001b[0;34m.\u001b[0m\u001b[0m__setattr__\u001b[0m\u001b[0;34m(\u001b[0m\u001b[0mself\u001b[0m\u001b[0;34m,\u001b[0m \u001b[0mname\u001b[0m\u001b[0;34m,\u001b[0m \u001b[0mvalue\u001b[0m\u001b[0;34m)\u001b[0m\u001b[0;34m\u001b[0m\u001b[0;34m\u001b[0m\u001b[0m\n\u001b[0m\u001b[1;32m   5501\u001b[0m         \u001b[0;32mexcept\u001b[0m \u001b[0mAttributeError\u001b[0m\u001b[0;34m:\u001b[0m\u001b[0;34m\u001b[0m\u001b[0;34m\u001b[0m\u001b[0m\n\u001b[1;32m   5502\u001b[0m             \u001b[0;32mpass\u001b[0m\u001b[0;34m\u001b[0m\u001b[0;34m\u001b[0m\u001b[0m\n",
            "\u001b[0;32m/usr/local/lib/python3.7/dist-packages/pandas/_libs/properties.pyx\u001b[0m in \u001b[0;36mpandas._libs.properties.AxisProperty.__set__\u001b[0;34m()\u001b[0m\n",
            "\u001b[0;32m/usr/local/lib/python3.7/dist-packages/pandas/core/generic.py\u001b[0m in \u001b[0;36m_set_axis\u001b[0;34m(self, axis, labels)\u001b[0m\n\u001b[1;32m    764\u001b[0m     \u001b[0;32mdef\u001b[0m \u001b[0m_set_axis\u001b[0m\u001b[0;34m(\u001b[0m\u001b[0mself\u001b[0m\u001b[0;34m,\u001b[0m \u001b[0maxis\u001b[0m\u001b[0;34m:\u001b[0m \u001b[0mint\u001b[0m\u001b[0;34m,\u001b[0m \u001b[0mlabels\u001b[0m\u001b[0;34m:\u001b[0m \u001b[0mIndex\u001b[0m\u001b[0;34m)\u001b[0m \u001b[0;34m->\u001b[0m \u001b[0;32mNone\u001b[0m\u001b[0;34m:\u001b[0m\u001b[0;34m\u001b[0m\u001b[0;34m\u001b[0m\u001b[0m\n\u001b[1;32m    765\u001b[0m         \u001b[0mlabels\u001b[0m \u001b[0;34m=\u001b[0m \u001b[0mensure_index\u001b[0m\u001b[0;34m(\u001b[0m\u001b[0mlabels\u001b[0m\u001b[0;34m)\u001b[0m\u001b[0;34m\u001b[0m\u001b[0;34m\u001b[0m\u001b[0m\n\u001b[0;32m--> 766\u001b[0;31m         \u001b[0mself\u001b[0m\u001b[0;34m.\u001b[0m\u001b[0m_mgr\u001b[0m\u001b[0;34m.\u001b[0m\u001b[0mset_axis\u001b[0m\u001b[0;34m(\u001b[0m\u001b[0maxis\u001b[0m\u001b[0;34m,\u001b[0m \u001b[0mlabels\u001b[0m\u001b[0;34m)\u001b[0m\u001b[0;34m\u001b[0m\u001b[0;34m\u001b[0m\u001b[0m\n\u001b[0m\u001b[1;32m    767\u001b[0m         \u001b[0mself\u001b[0m\u001b[0;34m.\u001b[0m\u001b[0m_clear_item_cache\u001b[0m\u001b[0;34m(\u001b[0m\u001b[0;34m)\u001b[0m\u001b[0;34m\u001b[0m\u001b[0;34m\u001b[0m\u001b[0m\n\u001b[1;32m    768\u001b[0m \u001b[0;34m\u001b[0m\u001b[0m\n",
            "\u001b[0;32m/usr/local/lib/python3.7/dist-packages/pandas/core/internals/managers.py\u001b[0m in \u001b[0;36mset_axis\u001b[0;34m(self, axis, new_labels)\u001b[0m\n\u001b[1;32m    214\u001b[0m     \u001b[0;32mdef\u001b[0m \u001b[0mset_axis\u001b[0m\u001b[0;34m(\u001b[0m\u001b[0mself\u001b[0m\u001b[0;34m,\u001b[0m \u001b[0maxis\u001b[0m\u001b[0;34m:\u001b[0m \u001b[0mint\u001b[0m\u001b[0;34m,\u001b[0m \u001b[0mnew_labels\u001b[0m\u001b[0;34m:\u001b[0m \u001b[0mIndex\u001b[0m\u001b[0;34m)\u001b[0m \u001b[0;34m->\u001b[0m \u001b[0;32mNone\u001b[0m\u001b[0;34m:\u001b[0m\u001b[0;34m\u001b[0m\u001b[0;34m\u001b[0m\u001b[0m\n\u001b[1;32m    215\u001b[0m         \u001b[0;31m# Caller is responsible for ensuring we have an Index object.\u001b[0m\u001b[0;34m\u001b[0m\u001b[0;34m\u001b[0m\u001b[0;34m\u001b[0m\u001b[0m\n\u001b[0;32m--> 216\u001b[0;31m         \u001b[0mself\u001b[0m\u001b[0;34m.\u001b[0m\u001b[0m_validate_set_axis\u001b[0m\u001b[0;34m(\u001b[0m\u001b[0maxis\u001b[0m\u001b[0;34m,\u001b[0m \u001b[0mnew_labels\u001b[0m\u001b[0;34m)\u001b[0m\u001b[0;34m\u001b[0m\u001b[0;34m\u001b[0m\u001b[0m\n\u001b[0m\u001b[1;32m    217\u001b[0m         \u001b[0mself\u001b[0m\u001b[0;34m.\u001b[0m\u001b[0maxes\u001b[0m\u001b[0;34m[\u001b[0m\u001b[0maxis\u001b[0m\u001b[0;34m]\u001b[0m \u001b[0;34m=\u001b[0m \u001b[0mnew_labels\u001b[0m\u001b[0;34m\u001b[0m\u001b[0;34m\u001b[0m\u001b[0m\n\u001b[1;32m    218\u001b[0m \u001b[0;34m\u001b[0m\u001b[0m\n",
            "\u001b[0;32m/usr/local/lib/python3.7/dist-packages/pandas/core/internals/base.py\u001b[0m in \u001b[0;36m_validate_set_axis\u001b[0;34m(self, axis, new_labels)\u001b[0m\n\u001b[1;32m     56\u001b[0m         \u001b[0;32melif\u001b[0m \u001b[0mnew_len\u001b[0m \u001b[0;34m!=\u001b[0m \u001b[0mold_len\u001b[0m\u001b[0;34m:\u001b[0m\u001b[0;34m\u001b[0m\u001b[0;34m\u001b[0m\u001b[0m\n\u001b[1;32m     57\u001b[0m             raise ValueError(\n\u001b[0;32m---> 58\u001b[0;31m                 \u001b[0;34mf\"Length mismatch: Expected axis has {old_len} elements, new \"\u001b[0m\u001b[0;34m\u001b[0m\u001b[0;34m\u001b[0m\u001b[0m\n\u001b[0m\u001b[1;32m     59\u001b[0m                 \u001b[0;34mf\"values have {new_len} elements\"\u001b[0m\u001b[0;34m\u001b[0m\u001b[0;34m\u001b[0m\u001b[0m\n\u001b[1;32m     60\u001b[0m             )\n",
            "\u001b[0;31mValueError\u001b[0m: Length mismatch: Expected axis has 6 elements, new values have 8 elements"
          ]
        }
      ]
    },
    {
      "cell_type": "code",
      "source": [],
      "metadata": {
        "id": "bwMW1cqoBz9S"
      },
      "execution_count": null,
      "outputs": []
    }
  ]
}